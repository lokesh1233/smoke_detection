{
 "cells": [
  {
   "cell_type": "code",
   "execution_count": 1,
   "metadata": {},
   "outputs": [],
   "source": [
    "import pandas as pd\n",
    "import numpy as np\n",
    "import matplotlib.pyplot as plt"
   ]
  },
  {
   "cell_type": "code",
   "execution_count": 116,
   "metadata": {},
   "outputs": [],
   "source": [
    "df = pd.read_csv('../data/raw/prediction_data.csv')\n",
    "\n",
    "## rating is for prediction\n",
    "## side is for training and testing\n",
    "train_df = df[df['side'] == 'train']"
   ]
  },
  {
   "cell_type": "code",
   "execution_count": 150,
   "metadata": {},
   "outputs": [],
   "source": [
    "# In between 30 to 50% percent\n",
    "\n",
    "# aspect_ratio\n",
    "# fingerprint_sensor_pos\n",
    "# ois\n",
    "# screen_protection\n",
    "# usb_otg_support\n",
    "\n",
    "\n",
    "## cleaning dataframe\n",
    "feature_ext = df[['phoneid', 'rating', 'side']]"
   ]
  },
  {
   "cell_type": "markdown",
   "metadata": {},
   "source": [
    "##  Preprocess the data"
   ]
  },
  {
   "cell_type": "code",
   "execution_count": 182,
   "metadata": {},
   "outputs": [],
   "source": [
    "isnull_sum = df.isnull().sum()\n",
    "isnotnull_columns = isnull_sum[isnull_sum <= (len(df)/100)*30].keys()\n",
    "df_data = df[isnotnull_columns]"
   ]
  },
  {
   "cell_type": "code",
   "execution_count": 183,
   "metadata": {},
   "outputs": [
    {
     "data": {
      "text/plain": [
       "('settings',\n",
       " 'shooting_modes',\n",
       " 'touch_screen',\n",
       " 'type',\n",
       " 'usb_connectivity',\n",
       " 'user_replaceable',\n",
       " 'video_recording',\n",
       " 'wifi_features')"
      ]
     },
     "execution_count": 183,
     "metadata": {},
     "output_type": "execute_result"
    }
   ],
   "source": [
    "## important features\n",
    "\"internal_memory\", \"pixel_density\", \"processor\", \"ram\", \"resolution\", \"sim_1\", \"sim_2\",  \"thickness\", \"weight\", 'colours', 'wifi',\n",
    "\"sensor\", \"volte\", 'audio_jack', 'autofocus', 'bluetooth', 'brand', 'camera_features', 'capacity', 'chipset', 'quick_charging', \n",
    "'rating_count', 'display_type', 'exp_memory', 'fm_radio', 'fingerprint_sensor', 'flash', 'gps', 'graphics', 'height',   'width',\n",
    "'image_resolution', 'launch_date', 'model', 'nfc', 'network', 'network_support', 'operating_system', 'other_sensors', \n",
    "'phy_aperture', 'review_count', 'sim_size', 'sim_slot(s)', 'sscreen_resolution', 'screen_size', 'screen_to_body_ratio_calc', \n",
    "'settings', 'shooting_modes', 'touch_screen', 'type', 'usb_connectivity', 'user_replaceable', 'video_recording', 'wifi_features'"
   ]
  },
  {
   "cell_type": "code",
   "execution_count": null,
   "metadata": {},
   "outputs": [],
   "source": []
  },
  {
   "cell_type": "code",
   "execution_count": 184,
   "metadata": {},
   "outputs": [
    {
     "data": {
      "text/plain": [
       "Index(['phoneid', 'architecture', 'audio_jack', 'autofocus', 'bluetooth',\n",
       "       'brand', 'camera_features', 'capacity', 'chipset', 'colours',\n",
       "       'display_type', 'exp_memory', 'fm_radio', 'fingerprint_sensor', 'flash',\n",
       "       'gps', 'graphics', 'height', 'image_resolution', 'internal_memory',\n",
       "       'launch_date', 'loudspeaker', 'model', 'nfc', 'network',\n",
       "       'network_support', 'operating_system', 'other_sensors', 'phy_aperture',\n",
       "       'pixel_density', 'processor', 'quick_charging', 'ram', 'rating_count',\n",
       "       'resolution', 'review_count', 'sim_1', 'sim_2', 'sim_size',\n",
       "       'sim_slot(s)', 'screen_resolution', 'screen_size',\n",
       "       'screen_to_body_ratio_calc', 'settings', 'shooting_modes', 'thickness',\n",
       "       'touch_screen', 'type', 'usb_connectivity', 'user_replaceable',\n",
       "       'video_recording', 'volte', 'weight', 'wifi', 'wifi_features', 'width',\n",
       "       'rating', 'side'],\n",
       "      dtype='object')"
      ]
     },
     "execution_count": 184,
     "metadata": {},
     "output_type": "execute_result"
    }
   ],
   "source": [
    "df_data.columns"
   ]
  },
  {
   "cell_type": "code",
   "execution_count": 199,
   "metadata": {},
   "outputs": [
    {
     "name": "stderr",
     "output_type": "stream",
     "text": [
      "c:\\users\\lokesh\\appdata\\local\\programs\\python\\python36\\lib\\site-packages\\ipykernel_launcher.py:2: SettingWithCopyWarning: \n",
      "A value is trying to be set on a copy of a slice from a DataFrame.\n",
      "Try using .loc[row_indexer,col_indexer] = value instead\n",
      "\n",
      "See the caveats in the documentation: http://pandas.pydata.org/pandas-docs/stable/indexing.html#indexing-view-versus-copy\n",
      "  \n",
      "c:\\users\\lokesh\\appdata\\local\\programs\\python\\python36\\lib\\site-packages\\ipykernel_launcher.py:3: SettingWithCopyWarning: \n",
      "A value is trying to be set on a copy of a slice from a DataFrame.\n",
      "Try using .loc[row_indexer,col_indexer] = value instead\n",
      "\n",
      "See the caveats in the documentation: http://pandas.pydata.org/pandas-docs/stable/indexing.html#indexing-view-versus-copy\n",
      "  This is separate from the ipykernel package so we can avoid doing imports until\n",
      "c:\\users\\lokesh\\appdata\\local\\programs\\python\\python36\\lib\\site-packages\\ipykernel_launcher.py:4: SettingWithCopyWarning: \n",
      "A value is trying to be set on a copy of a slice from a DataFrame.\n",
      "Try using .loc[row_indexer,col_indexer] = value instead\n",
      "\n",
      "See the caveats in the documentation: http://pandas.pydata.org/pandas-docs/stable/indexing.html#indexing-view-versus-copy\n",
      "  after removing the cwd from sys.path.\n",
      "c:\\users\\lokesh\\appdata\\local\\programs\\python\\python36\\lib\\site-packages\\ipykernel_launcher.py:5: SettingWithCopyWarning: \n",
      "A value is trying to be set on a copy of a slice from a DataFrame.\n",
      "Try using .loc[row_indexer,col_indexer] = value instead\n",
      "\n",
      "See the caveats in the documentation: http://pandas.pydata.org/pandas-docs/stable/indexing.html#indexing-view-versus-copy\n",
      "  \"\"\"\n",
      "c:\\users\\lokesh\\appdata\\local\\programs\\python\\python36\\lib\\site-packages\\ipykernel_launcher.py:6: SettingWithCopyWarning: \n",
      "A value is trying to be set on a copy of a slice from a DataFrame.\n",
      "Try using .loc[row_indexer,col_indexer] = value instead\n",
      "\n",
      "See the caveats in the documentation: http://pandas.pydata.org/pandas-docs/stable/indexing.html#indexing-view-versus-copy\n",
      "  \n",
      "c:\\users\\lokesh\\appdata\\local\\programs\\python\\python36\\lib\\site-packages\\ipykernel_launcher.py:7: SettingWithCopyWarning: \n",
      "A value is trying to be set on a copy of a slice from a DataFrame.\n",
      "Try using .loc[row_indexer,col_indexer] = value instead\n",
      "\n",
      "See the caveats in the documentation: http://pandas.pydata.org/pandas-docs/stable/indexing.html#indexing-view-versus-copy\n",
      "  import sys\n",
      "c:\\users\\lokesh\\appdata\\local\\programs\\python\\python36\\lib\\site-packages\\ipykernel_launcher.py:8: SettingWithCopyWarning: \n",
      "A value is trying to be set on a copy of a slice from a DataFrame.\n",
      "Try using .loc[row_indexer,col_indexer] = value instead\n",
      "\n",
      "See the caveats in the documentation: http://pandas.pydata.org/pandas-docs/stable/indexing.html#indexing-view-versus-copy\n",
      "  \n",
      "c:\\users\\lokesh\\appdata\\local\\programs\\python\\python36\\lib\\site-packages\\ipykernel_launcher.py:12: SettingWithCopyWarning: \n",
      "A value is trying to be set on a copy of a slice from a DataFrame.\n",
      "Try using .loc[row_indexer,col_indexer] = value instead\n",
      "\n",
      "See the caveats in the documentation: http://pandas.pydata.org/pandas-docs/stable/indexing.html#indexing-view-versus-copy\n",
      "  if sys.path[0] == '':\n",
      "c:\\users\\lokesh\\appdata\\local\\programs\\python\\python36\\lib\\site-packages\\ipykernel_launcher.py:17: SettingWithCopyWarning: \n",
      "A value is trying to be set on a copy of a slice from a DataFrame.\n",
      "Try using .loc[row_indexer,col_indexer] = value instead\n",
      "\n",
      "See the caveats in the documentation: http://pandas.pydata.org/pandas-docs/stable/indexing.html#indexing-view-versus-copy\n"
     ]
    }
   ],
   "source": [
    "## feature extraction\n",
    "feature_ext['internal_memory'] = df['internal_memory'].fillna(\"0000\").apply(lambda x: x.split()[0])\n",
    "feature_ext['pixel_density']  = df['pixel_density'].fillna(\"0000\").apply(lambda x: x.split()[0])\n",
    "feature_ext['resolution']  = df['resolution'].fillna(\"0000\").apply(lambda x: x.split()[0])\n",
    "feature_ext['sim_1']  = df['sim_1'].fillna(\"0000\").apply(lambda x: x.split()[0])\n",
    "feature_ext['sim_2']  = df['sim_2'].fillna(\"0000\").apply(lambda x: x.split()[0])\n",
    "feature_ext['thickness']  = df['thickness'].fillna(\"0000\").apply(lambda x: x.split()[0])\n",
    "feature_ext['weight']  = df['weight'].fillna(\"0000\").apply(lambda x: x.split()[0])\n",
    "feature_ext['capacity']  = df['capacity'].fillna(\"0000\").apply(lambda x: x.split()[0])\n",
    "feature_ext['height']  = df['height'].fillna(\"0000\").apply(lambda x: x.split()[0])\n",
    "feature_ext['width']  = df['width'].fillna(\"0000\").apply(lambda x: x.split()[0])\n",
    "\n",
    "\n",
    "\n",
    "\n",
    "# 512 MB \n",
    "feature_ext['ram']  = df['ram'].fillna(\"0000\").apply(lambda x: x.split()[0])\n",
    "\n",
    "\n",
    "\n",
    "##boolean type\n",
    "feature_ext['volte']  = df['volte'].apply(lambda x: 1 if x == 'yes' else 0)\n",
    "feature_ext['fingerprint_sensor']  = df['fingerprint_sensor'].apply(lambda x: 1 if x == 'yes' else 0)\n",
    "\n",
    "\n",
    "\n",
    "\n"
   ]
  },
  {
   "cell_type": "code",
   "execution_count": null,
   "metadata": {},
   "outputs": [],
   "source": [
    "## need to check\n",
    "\"processor\", \"colours\", \"wifi\", \"sensor\", \"autofocus\", \"chipset\", \"quick_charging\"\n",
    "\n",
    "## min max value for rating\n",
    "\"rating_count\", \"review_count\"\n",
    "\n",
    "#one hot encoding\n",
    "\"flash\", \"gps\", \"graphics\", \"other_sensors\", \"phy_aperture\", \"sim_size\", \"sim_slot(s)\", \"wifi_features\", 'audio_jack', \n",
    "'bluetooth', 'brand', 'camera_features', \"display_type\", \"exp_memory\", \"fm_radio\"\n",
    "\n",
    "## one hot encoding with most common value\n",
    "\"network\", \"network_support\", \"settings\", \"shooting_modes\", \"touch_screen\", \"type\", \"user_replaceable\", \"video_recording\"\n",
    "\n",
    "#Bin size and one hot enoding \n",
    "\"image_resolution\", \"operating_system\", \"screen_resolution\", \"screen_size\", \"usb_connectivity\"\n",
    "\n",
    "#Date category\n",
    "\"launch_date\"\n",
    "\n",
    "# unique data\n",
    "\"model\"\n",
    "\n",
    "#need to check unique data\n",
    "\"nfc\"\n",
    "\n",
    "# ratio calculation\n",
    "\"screen_to_body_ratio_calc\""
   ]
  },
  {
   "cell_type": "code",
   "execution_count": null,
   "metadata": {},
   "outputs": [],
   "source": []
  },
  {
   "cell_type": "code",
   "execution_count": 224,
   "metadata": {},
   "outputs": [],
   "source": [
    "# df_data.head()"
   ]
  },
  {
   "cell_type": "code",
   "execution_count": 143,
   "metadata": {},
   "outputs": [
    {
     "data": {
      "text/plain": [
       "64 bit    356\n",
       "32 bit      7\n",
       "Name: architecture, dtype: int64"
      ]
     },
     "execution_count": 143,
     "metadata": {},
     "output_type": "execute_result"
    }
   ],
   "source": [
    "df_data['architecture'].value_counts()"
   ]
  },
  {
   "cell_type": "code",
   "execution_count": 137,
   "metadata": {},
   "outputs": [
    {
     "name": "stdout",
     "output_type": "stream",
     "text": [
      "aspect_ratio\n",
      "fingerprint_sensor_pos\n",
      "ois\n",
      "screen_protection\n",
      "usb_otg_support\n"
     ]
    }
   ],
   "source": [
    "for i in pre_63:\n",
    "    if i not in list(isnotnull_columns):\n",
    "        print(i)\n",
    "# pre_63"
   ]
  },
  {
   "cell_type": "code",
   "execution_count": 152,
   "metadata": {},
   "outputs": [
    {
     "data": {
      "text/plain": [
       "Index(['phoneid', 'architecture', 'audio_jack', 'autofocus', 'bluetooth',\n",
       "       'brand', 'camera_features', 'capacity', 'chipset', 'colours',\n",
       "       'display_type', 'exp_memory', 'fm_radio', 'fingerprint_sensor', 'flash',\n",
       "       'gps', 'graphics', 'height', 'image_resolution', 'internal_memory',\n",
       "       'launch_date', 'loudspeaker', 'model', 'nfc', 'network',\n",
       "       'network_support', 'operating_system', 'other_sensors', 'phy_aperture',\n",
       "       'pixel_density', 'processor', 'quick_charging', 'ram', 'rating_count',\n",
       "       'resolution', 'review_count', 'sim_1', 'sim_2', 'sim_size',\n",
       "       'sim_slot(s)', 'screen_resolution', 'screen_size',\n",
       "       'screen_to_body_ratio_calc', 'settings', 'shooting_modes', 'thickness',\n",
       "       'touch_screen', 'type', 'usb_connectivity', 'user_replaceable',\n",
       "       'video_recording', 'volte', 'weight', 'wifi', 'wifi_features', 'width',\n",
       "       'rating', 'side'],\n",
       "      dtype='object')"
      ]
     },
     "execution_count": 152,
     "metadata": {},
     "output_type": "execute_result"
    }
   ],
   "source": [
    "df_data.columns"
   ]
  },
  {
   "cell_type": "code",
   "execution_count": null,
   "metadata": {},
   "outputs": [],
   "source": [
    "## need to check text data process   internal memory, pixel_density, processor, ram, resolution, sim_1, sim_2,  thickness, weight, \n",
    "\n",
    "## remove data  sensor, , \n",
    "## same value is repeated   volte \n",
    "'audio_jack', 'autofocus', 'bluetooth', 'brand', 'camera_features', 'capacity', 'chipset', 'colours', 'quick_charging', \n",
    "'rating_count', 'display_type', 'exp_memory', 'fm_radio', 'fingerprint_sensor', 'flash', 'gps', 'graphics', 'height', 'wifi_features', \n",
    "'image_resolution', 'launch_date', 'model', 'nfc', 'network', 'network_support', 'operating_system', 'other_sensors', \n",
    "'phy_aperture', 'review_count', 'sim_size', 'sim_slot(s)', 'sscreen_resolution', 'screen_size', 'screen_to_body_ratio_calc', \n",
    "'settings', 'shooting_modes', 'touch_screen', 'type', 'usb_connectivity', 'user_replaceable', 'video_recording', 'wifi', 'width',\n",
    "      "
   ]
  },
  {
   "cell_type": "code",
   "execution_count": 163,
   "metadata": {},
   "outputs": [
    {
     "data": {
      "text/plain": [
       "yes    368\n",
       "Name: volte, dtype: int64"
      ]
     },
     "execution_count": 163,
     "metadata": {},
     "output_type": "execute_result"
    }
   ],
   "source": [
    "df['volte'].value_counts()"
   ]
  },
  {
   "cell_type": "code",
   "execution_count": 126,
   "metadata": {},
   "outputs": [
    {
     "data": {
      "text/plain": [
       "False"
      ]
     },
     "execution_count": 126,
     "metadata": {},
     "output_type": "execute_result"
    }
   ],
   "source": [
    "\"phoneid\" not in pre_trns"
   ]
  },
  {
   "cell_type": "code",
   "execution_count": 151,
   "metadata": {},
   "outputs": [
    {
     "data": {
      "text/plain": [
       "Index(['phoneid', 'architecture', 'audio_jack', 'autofocus', 'bluetooth',\n",
       "       'brand', 'camera_features', 'capacity', 'chipset', 'colours',\n",
       "       'display_type', 'exp_memory', 'fm_radio', 'fingerprint_sensor', 'flash',\n",
       "       'gps', 'graphics', 'height', 'image_resolution', 'internal_memory',\n",
       "       'launch_date', 'loudspeaker', 'model', 'nfc', 'network',\n",
       "       'network_support', 'operating_system', 'other_sensors', 'phy_aperture',\n",
       "       'pixel_density', 'processor', 'quick_charging', 'ram', 'rating_count',\n",
       "       'resolution', 'review_count', 'sim_1', 'sim_2', 'sim_size',\n",
       "       'sim_slot(s)', 'screen_resolution', 'screen_size',\n",
       "       'screen_to_body_ratio_calc', 'settings', 'shooting_modes', 'thickness',\n",
       "       'touch_screen', 'type', 'usb_connectivity', 'user_replaceable',\n",
       "       'video_recording', 'volte', 'weight', 'wifi', 'wifi_features', 'width',\n",
       "       'rating', 'side'],\n",
       "      dtype='object')"
      ]
     },
     "execution_count": 151,
     "metadata": {},
     "output_type": "execute_result"
    }
   ],
   "source": [
    "df_data.columns"
   ]
  },
  {
   "cell_type": "code",
   "execution_count": null,
   "metadata": {},
   "outputs": [],
   "source": [
    "import featuretools as ft"
   ]
  },
  {
   "cell_type": "code",
   "execution_count": 144,
   "metadata": {},
   "outputs": [
    {
     "data": {
      "text/plain": [
       "Index(['phoneid', 'architecture', 'audio_jack', 'autofocus', 'bluetooth',\n",
       "       'brand', 'camera_features', 'capacity', 'chipset', 'colours',\n",
       "       'display_type', 'exp_memory', 'fm_radio', 'fingerprint_sensor', 'flash',\n",
       "       'gps', 'graphics', 'height', 'image_resolution', 'internal_memory',\n",
       "       'launch_date', 'loudspeaker', 'model', 'nfc', 'network',\n",
       "       'network_support', 'operating_system', 'other_sensors', 'phy_aperture',\n",
       "       'pixel_density', 'processor', 'quick_charging', 'ram', 'rating_count',\n",
       "       'resolution', 'review_count', 'sim_1', 'sim_2', 'sim_size',\n",
       "       'sim_slot(s)', 'screen_resolution', 'screen_size',\n",
       "       'screen_to_body_ratio_calc', 'settings', 'shooting_modes', 'thickness',\n",
       "       'touch_screen', 'type', 'usb_connectivity', 'user_replaceable',\n",
       "       'video_recording', 'volte', 'weight', 'wifi', 'wifi_features', 'width',\n",
       "       'rating', 'side'],\n",
       "      dtype='object')"
      ]
     },
     "execution_count": 144,
     "metadata": {},
     "output_type": "execute_result"
    }
   ],
   "source": [
    "df_data.columns"
   ]
  },
  {
   "cell_type": "code",
   "execution_count": 24,
   "metadata": {},
   "outputs": [],
   "source": [
    "# plt.plot(df['rating'], df['volte'].fillna('no'), kind='scatter')"
   ]
  },
  {
   "cell_type": "code",
   "execution_count": 26,
   "metadata": {},
   "outputs": [],
   "source": [
    "feature_df = df[['autofocus', 'bluetooth', 'brand', 'camera_features', 'capacity', 'chipset', 'colours', 'quick_charging', \n",
    "'rating_count', 'display_type', 'exp_memory', 'fm_radio', 'fingerprint_sensor', 'flash', 'gps', 'graphics', 'height', 'wifi_features', \n",
    "'image_resolution', 'launch_date', 'model', 'nfc', 'network', 'network_support', 'operating_system', 'other_sensors', \n",
    "'phy_aperture', 'review_count', 'sim_size', 'sim_slot(s)', 'screen_resolution', 'screen_size', 'screen_to_body_ratio_calc', \n",
    "'settings', 'shooting_modes', 'touch_screen', 'type', 'usb_connectivity', 'user_replaceable', 'video_recording', 'wifi', 'width']]"
   ]
  },
  {
   "cell_type": "code",
   "execution_count": 119,
   "metadata": {},
   "outputs": [
    {
     "data": {
      "text/plain": [
       "<matplotlib.collections.PathCollection at 0x1a0c9d7b080>"
      ]
     },
     "execution_count": 119,
     "metadata": {},
     "output_type": "execute_result"
    },
    {
     "data": {
      "image/png": "[encoded data removed]",
      "text/plain": [
       "<Figure size 432x288 with 1 Axes>"
      ]
     },
     "metadata": {
      "needs_background": "light"
     },
     "output_type": "display_data"
    }
   ],
   "source": [
    "plt.scatter(train_df['autofocus'].fillna(\"0\"), train_df['rating'])"
   ]
  },
  {
   "cell_type": "code",
   "execution_count": 128,
   "metadata": {},
   "outputs": [
    {
     "ename": "TypeError",
     "evalue": "sequence item 0: expected str instance, list found",
     "output_type": "error",
     "traceback": [
      "\u001b[1;31m---------------------------------------------------------------------------\u001b[0m",
      "\u001b[1;31mTypeError\u001b[0m                                 Traceback (most recent call last)",
      "\u001b[1;32m<ipython-input-128-ae1a76651103>\u001b[0m in \u001b[0;36m<module>\u001b[1;34m\u001b[0m\n\u001b[1;32m----> 1\u001b[1;33m \u001b[1;34m\",\"\u001b[0m\u001b[1;33m.\u001b[0m\u001b[0mjoin\u001b[0m\u001b[1;33m(\u001b[0m\u001b[0mdf\u001b[0m\u001b[1;33m[\u001b[0m\u001b[1;34m'autofocus'\u001b[0m\u001b[1;33m]\u001b[0m\u001b[1;33m.\u001b[0m\u001b[0mstr\u001b[0m\u001b[1;33m.\u001b[0m\u001b[0msplit\u001b[0m\u001b[1;33m(\u001b[0m\u001b[1;34m\",\"\u001b[0m\u001b[1;33m)\u001b[0m\u001b[1;33m)\u001b[0m\u001b[1;33m\u001b[0m\u001b[1;33m\u001b[0m\u001b[0m\n\u001b[0m",
      "\u001b[1;31mTypeError\u001b[0m: sequence item 0: expected str instance, list found"
     ]
    }
   ],
   "source": [
    "\",\".join(df['autofocus'].str.split(\",\"))"
   ]
  },
  {
   "cell_type": "code",
   "execution_count": 48,
   "metadata": {},
   "outputs": [],
   "source": [
    "# plt.hist(df[\"rating\"], feature_df[\"width\"])"
   ]
  },
  {
   "cell_type": "code",
   "execution_count": 78,
   "metadata": {},
   "outputs": [
    {
     "data": {
      "text/plain": [
       "143"
      ]
     },
     "execution_count": 78,
     "metadata": {},
     "output_type": "execute_result"
    }
   ],
   "source": [
    "474 - 331"
   ]
  },
  {
   "cell_type": "code",
   "execution_count": 7,
   "metadata": {},
   "outputs": [],
   "source": [
    "# nullvalues"
   ]
  },
  {
   "cell_type": "code",
   "execution_count": 223,
   "metadata": {},
   "outputs": [
    {
     "name": "stdout",
     "output_type": "stream",
     "text": [
      "\n"
     ]
    }
   ],
   "source": [
    "\"internal_memory\", \"pixel_density\", \"processor\", \"ram\", \"resolution\", \"sim_1\", \"sim_2\",  \"thickness\", \"weight\", 'colours', 'wifi',\n",
    "\"sensor\",\"volte\", 'audio_jack', 'autofocus', 'bluetooth', 'brand', 'camera_features', 'capacity', 'chipset', 'quick_charging', \n",
    "'rating_count', 'display_type', 'exp_memory', 'fm_radio', 'fingerprint_sensor', 'flash', 'gps', 'graphics', 'height',   'width',\n",
    "'image_resolution', 'launch_date', 'model', 'nfc', 'network', 'network_support', 'operating_system', 'other_sensors', \n",
    "'phy_aperture', 'review_count', 'sim_size', 'sim_slot(s)', 'sscreen_resolution', 'screen_size', 'screen_to_body_ratio_calc', \n",
    "'settings', 'shooting_modes', 'touch_screen', 'type', 'usb_connectivity', 'user_replaceable', 'video_recording', 'wifi_features'\n",
    "\n",
    "print()"
   ]
  },
  {
   "cell_type": "code",
   "execution_count": null,
   "metadata": {},
   "outputs": [],
   "source": []
  },
  {
   "cell_type": "code",
   "execution_count": 90,
   "metadata": {},
   "outputs": [],
   "source": [
    "# df[df['internal_memory'].fillna(\"0000\").str.contains('25')]['internal_memory']"
   ]
  },
  {
   "cell_type": "code",
   "execution_count": null,
   "metadata": {},
   "outputs": [],
   "source": []
  },
  {
   "cell_type": "code",
   "execution_count": 129,
   "metadata": {},
   "outputs": [],
   "source": [
    "# feature_ext"
   ]
  },
  {
   "cell_type": "code",
   "execution_count": 221,
   "metadata": {},
   "outputs": [],
   "source": [
    "# df['ram'].value_counts()\n",
    "# df['sim_2']"
   ]
  },
  {
   "cell_type": "code",
   "execution_count": 136,
   "metadata": {},
   "outputs": [],
   "source": [
    "# feature_ext"
   ]
  },
  {
   "cell_type": "code",
   "execution_count": 220,
   "metadata": {},
   "outputs": [],
   "source": [
    "# feature_ext['ram'].value_counts()"
   ]
  },
  {
   "cell_type": "code",
   "execution_count": 219,
   "metadata": {},
   "outputs": [],
   "source": [
    "# df[df['ram'].fillna(\"0000\").str.contains(\"512\")]['ram']"
   ]
  },
  {
   "cell_type": "code",
   "execution_count": 203,
   "metadata": {},
   "outputs": [],
   "source": [
    "'phy_aperture', 'review_count', 'sim_size', 'sim_slot(s)', 'sscreen_resolution', 'screen_size', 'screen_to_body_ratio_calc', \n",
    "'settings', 'shooting_modes', 'touch_screen', 'type', 'usb_connectivity', 'user_replaceable', 'video_recording', 'wifi_features'"
   ]
  },
  {
   "cell_type": "code",
   "execution_count": 246,
   "metadata": {},
   "outputs": [],
   "source": [
    "# df['sim_2'].fillna(\"0000\").apply(lambda x: x.split()[0]).value_counts()"
   ]
  },
  {
   "cell_type": "code",
   "execution_count": 263,
   "metadata": {},
   "outputs": [
    {
     "data": {
      "text/plain": [
       "No     242\n",
       "yes    112\n",
       "Name: nfc, dtype: int64"
      ]
     },
     "execution_count": 263,
     "metadata": {},
     "output_type": "execute_result"
    }
   ],
   "source": [
    "# df[[\"sim_1\", \"sim_2\"]].isnull() \n",
    "df['nfc'].value_counts()"
   ]
  },
  {
   "cell_type": "code",
   "execution_count": 218,
   "metadata": {},
   "outputs": [],
   "source": []
  },
  {
   "cell_type": "code",
   "execution_count": null,
   "metadata": {},
   "outputs": [],
   "source": []
  }
 ],
 "metadata": {
  "kernelspec": {
   "display_name": "Python 3",
   "language": "python",
   "name": "python3"
  },
  "language_info": {
   "codemirror_mode": {
    "name": "ipython",
    "version": 3
   },
   "file_extension": ".py",
   "mimetype": "text/x-python",
   "name": "python",
   "nbconvert_exporter": "python",
   "pygments_lexer": "ipython3",
   "version": "3.6.7"
  }
 },
 "nbformat": 4,
 "nbformat_minor": 2
}
